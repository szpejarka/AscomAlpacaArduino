{
 "cells": [
  {
   "cell_type": "code",
   "execution_count": 4,
   "metadata": {},
   "outputs": [
    {
     "name": "stdout",
     "output_type": "stream",
     "text": [
      "Deg per step =  9.765624999999999e-05\n",
      "Steps for one deg =  10240.0\n",
      "Speed 2 deg per second =  195.3125\n"
     ]
    }
   ],
   "source": [
    "eq5_rate = 1/144\n",
    "belt_gear = 1/2\n",
    "motor_step = 1.8\n",
    "micro_steps = 1/64\n",
    "\n",
    "deg_per_step = motor_step * micro_steps * belt_gear * eq5_rate\n",
    "\n",
    "print(\"Deg per step = \", deg_per_step)\n",
    "print(\"Steps for one deg = \", 1/deg_per_step)\n",
    "print(\"Speed 2 deg per second = \", 2*1_000_000/( 1/deg_per_step))"
   ]
  }
 ],
 "metadata": {
  "kernelspec": {
   "display_name": "Python 3",
   "language": "python",
   "name": "python3"
  },
  "language_info": {
   "codemirror_mode": {
    "name": "ipython",
    "version": 3
   },
   "file_extension": ".py",
   "mimetype": "text/x-python",
   "name": "python",
   "nbconvert_exporter": "python",
   "pygments_lexer": "ipython3",
   "version": "3.10.11"
  }
 },
 "nbformat": 4,
 "nbformat_minor": 2
}
